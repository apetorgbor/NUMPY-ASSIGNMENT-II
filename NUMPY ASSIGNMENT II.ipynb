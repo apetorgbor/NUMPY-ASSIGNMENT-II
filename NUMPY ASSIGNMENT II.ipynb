{
 "cells": [
  {
   "cell_type": "markdown",
   "id": "86b203ab",
   "metadata": {},
   "source": [
    " 1. Write a NumPy program to create a vector of length 5 filled with arbitrary integers from 0 to 10"
   ]
  },
  {
   "cell_type": "code",
   "execution_count": 1,
   "id": "3c52c294",
   "metadata": {},
   "outputs": [
    {
     "name": "stdout",
     "output_type": "stream",
     "text": [
      "[5 3 6 5 4]\n"
     ]
    }
   ],
   "source": [
    "import numpy as np\n",
    "\n",
    "# create a vector of length 5 filled with random integers between 0 and 10\n",
    "my_vector = np.random.randint(low=0, high=11, size=5)\n",
    "\n",
    "print(my_vector)"
   ]
  },
  {
   "cell_type": "markdown",
   "id": "4643bdc0",
   "metadata": {},
   "source": [
    "2. Write a NumPy program to create a vector with values ​​ranging from 15 to 55 and print all values​​except the first and last."
   ]
  },
  {
   "cell_type": "code",
   "execution_count": 2,
   "id": "72d89fd0",
   "metadata": {},
   "outputs": [
    {
     "name": "stdout",
     "output_type": "stream",
     "text": [
      "[16 17 18 19 20 21 22 23 24 25 26 27 28 29 30 31 32 33 34 35 36 37 38 39\n",
      " 40 41 42 43 44 45 46 47 48 49 50 51 52 53 54]\n"
     ]
    }
   ],
   "source": [
    "import numpy as np\n",
    "\n",
    "# Create a vector with values ranging from 15 to 55\n",
    "vector = np.arange(15, 56)\n",
    "\n",
    "# Print all values except the first and last\n",
    "print(vector[1:-1])"
   ]
  },
  {
   "cell_type": "markdown",
   "id": "be16d5a1",
   "metadata": {},
   "source": [
    "3. Write a NumPy program to create a random array with 1000 elements and compute the average, variance, standard deviation of the array elements"
   ]
  },
  {
   "cell_type": "code",
   "execution_count": 3,
   "id": "c65bec1d",
   "metadata": {},
   "outputs": [
    {
     "name": "stdout",
     "output_type": "stream",
     "text": [
      "Average:  0.495613526292376\n",
      "Variance:  0.0853450509995126\n",
      "Standard Deviation:  0.2921387529916437\n"
     ]
    }
   ],
   "source": [
    "import numpy as np\n",
    "\n",
    "# Create a random array with 1000 elements\n",
    "arr = np.random.rand(1000)\n",
    "\n",
    "# Compute the average, variance, and standard deviation of the array\n",
    "avg = np.mean(arr)\n",
    "variance = np.var(arr)\n",
    "std_dev = np.std(arr)\n",
    "\n",
    "# Print the results\n",
    "print(\"Average: \", avg)\n",
    "print(\"Variance: \", variance)\n",
    "print(\"Standard Deviation: \", std_dev)"
   ]
  },
  {
   "cell_type": "markdown",
   "id": "74595df9",
   "metadata": {},
   "source": [
    "4. Write a NumPy program to calculate cumulative sum of the elements along a given axis, sum over rows for each of the 3 columns and sum over columns for each of the 2 rows of a given 3x3 array. "
   ]
  },
  {
   "cell_type": "code",
   "execution_count": 6,
   "id": "c68e6311",
   "metadata": {},
   "outputs": [
    {
     "name": "stdout",
     "output_type": "stream",
     "text": [
      "[[1 2]\n",
      " [3 4]]\n"
     ]
    }
   ],
   "source": [
    "# Define the two matrices\n",
    "matrix1 = np.array([[1, 0], [0, 1]])\n",
    "matrix2 = np.array([[1, 2], [3, 4]])\n",
    "\n",
    "# Compute the multiplication of the two matrices\n",
    "result = np.dot(matrix1, matrix2)\n",
    "\n",
    "# Print the result\n",
    "print(result)"
   ]
  },
  {
   "cell_type": "markdown",
   "id": "d3872a53",
   "metadata": {},
   "source": [
    "5. Write a NumPy program to compute the multiplication of two given matrixes. \n",
    "\n",
    "Sample Matrix: \n",
    "\n",
    "[[1, 0], [0, 1]] \n",
    "\n",
    "[[1, 2], [3, 4]] "
   ]
  },
  {
   "cell_type": "code",
   "execution_count": 7,
   "id": "a1abc9e2",
   "metadata": {},
   "outputs": [
    {
     "name": "stdout",
     "output_type": "stream",
     "text": [
      "Cumulative sum along axis 0:\n",
      " [[ 1  2  3]\n",
      " [ 5  7  9]\n",
      " [12 15 18]]\n",
      "Cumulative sum along axis 1:\n",
      " [[ 1  3  6]\n",
      " [ 4  9 15]\n",
      " [ 7 15 24]]\n",
      "Sum over rows for each of the 3 columns:\n",
      " [12 15 18]\n",
      "Sum over columns for each of the 2 rows:\n",
      " [ 6 15 24]\n"
     ]
    }
   ],
   "source": [
    "# Create a 3x3 array\n",
    "arr = np.array([[1, 2, 3], [4, 5, 6], [7, 8, 9]])\n",
    "\n",
    "# Calculate the cumulative sum along axis 0\n",
    "cumulative_sum_axis0 = np.cumsum(arr, axis=0)\n",
    "\n",
    "# Calculate the cumulative sum along axis 1\n",
    "cumulative_sum_axis1 = np.cumsum(arr, axis=1)\n",
    "\n",
    "# Sum over rows for each of the 3 columns\n",
    "sum_columns = np.sum(arr, axis=0)\n",
    "\n",
    "# Sum over columns for each of the 2 rows\n",
    "sum_rows = np.sum(arr, axis=1)\n",
    "\n",
    "# Print the results\n",
    "print(\"Cumulative sum along axis 0:\\n\", cumulative_sum_axis0)\n",
    "print(\"Cumulative sum along axis 1:\\n\", cumulative_sum_axis1)\n",
    "print(\"Sum over rows for each of the 3 columns:\\n\", sum_columns)\n",
    "print(\"Sum over columns for each of the 2 rows:\\n\", sum_rows)"
   ]
  }
 ],
 "metadata": {
  "kernelspec": {
   "display_name": "Python 3 (ipykernel)",
   "language": "python",
   "name": "python3"
  },
  "language_info": {
   "codemirror_mode": {
    "name": "ipython",
    "version": 3
   },
   "file_extension": ".py",
   "mimetype": "text/x-python",
   "name": "python",
   "nbconvert_exporter": "python",
   "pygments_lexer": "ipython3",
   "version": "3.9.13"
  }
 },
 "nbformat": 4,
 "nbformat_minor": 5
}
